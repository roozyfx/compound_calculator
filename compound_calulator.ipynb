{
 "cells": [
  {
   "cell_type": "code",
   "execution_count": 1,
   "id": "82de964d-a568-4efd-8437-a28a4e06c17e",
   "metadata": {},
   "outputs": [],
   "source": [
    "\"\"\"\n",
    "ENTER YOUR OWN DATA HERE, IN THIS CELL:\n",
    "\"\"\"\n",
    "# Cost of your life-style with today's money, for a year. \n",
    "lifestyle_cost = 500000\n",
    "# Your current age\n",
    "age = 13\n",
    "# Age you'd like to stop working\n",
    "ret_age = 80\n",
    "# You hope you'll live by this age:\n",
    "death_age = 110\n",
    "# Average interest rate in percent, i.e. integer:\n",
    "interest_rate = 10\n",
    "current_savings = 60000\n",
    "monthly_addition = 1000"
   ]
  },
  {
   "cell_type": "code",
   "execution_count": 2,
   "id": "2795c7c8",
   "metadata": {},
   "outputs": [],
   "source": [
    "\"\"\"\n",
    "JUST EXECUTE THI\n",
    "TO GET THE RESULT \n",
    "\"\"\"\n",
    "\n",
    "# How much money you need at a certain age, to live happily ever after (until you die!)\n",
    "\"\"\" Inputs: \n",
    "lifestyle_cost: Cost of your life-style with today's money, for a year. \n",
    "age: Your current age\n",
    "ret_age: Age you'd like to stop working\n",
    "death_age: You hope you'll live until this age.\n",
    "Your estimate of the average interest rate (in percent),  i.e. integer\n",
    "\"\"\"\n",
    "def money_you_need(lifestyle_cost, age, ret_age, death_age, interest_rate):\n",
    "    interest_rate = interest_rate * 0.01\n",
    "    retire_lsc = lifestyle_cost * (1+interest_rate)**(ret_age-age)\n",
    "    S = sum((1+interest_rate)**i for i in range(0, death_age-ret_age+1))\n",
    "    needed_money = retire_lsc * S\n",
    "    return needed_money\n",
    "\n",
    "def money_you_compound(age, ret_age, current_savings, monthly_addition, compound_rate):\n",
    "    compound_rate = compound_rate * 0.01\n",
    "    r = 1 + compound_rate\n",
    "    n = ret_age - age\n",
    "    Sigma = sum(r**i for i in range(1, n+1))\n",
    "    m = monthly_addition\n",
    "    # this calculation is not accurate, but enough for now. \n",
    "    # @todo improve calculation of compounding of monthly additions\n",
    "    compound =  current_savings * r**n +monthly_addition*12*Sigma\n",
    "    return compound\n",
    "    \n",
    "def compound_rate_needed(age, lifestyle_cost, ret_age, death_age, interest_rate, current_savings, monthly_addition):\n",
    "    # compound rate\n",
    "    c = 0\n",
    "    #learning rate\n",
    "    l = 16\n",
    "    MC = money_you_compound(age, ret_age, current_savings, monthly_addition, c)\n",
    "    MN = money_you_need(lifestyle_cost, age, ret_age, death_age, interest_rate)\n",
    "    it = 0\n",
    "    accuracy = 1000\n",
    "\n",
    "    while abs(MC-MN) > accuracy:\n",
    "        while MN-MC > accuracy:\n",
    "            c += l\n",
    "            MC = money_you_compound(age, ret_age, current_savings, monthly_addition, c)\n",
    "            \n",
    "        while MC-MN > accuracy:\n",
    "            l /=2\n",
    "            c -= l\n",
    "            MC = money_you_compound(age, ret_age, current_savings, monthly_addition, c)\n",
    "        it += 1\n",
    "        #print(\"iteration: \", it, \"--- MC: \", MC)\n",
    "    return (c, it)\n",
    "\n",
    "\n",
    "comp_rate, it = compound_rate_needed(age, lifestyle_cost, ret_age, death_age, interest_rate, current_savings, monthly_addition)\n",
    "print(\"You need annual compound rate of \", comp_rate, \"% to achieve your financial goals!\")"
   ]
  },
  {
   "cell_type": "code",
   "execution_count": null,
   "id": "456001b0-3811-4ecd-a455-15185cc6dc85",
   "metadata": {},
   "outputs": [],
   "source": [
    "mn = money_you_need(lifestyle_cost, age, ret_age, death_age, interest_rate)\n",
    "mn"
   ]
  },
  {
   "cell_type": "code",
   "execution_count": null,
   "id": "8c6d3135-1801-45da-bbd6-c942c017a300",
   "metadata": {},
   "outputs": [],
   "source": [
    "mc = money_you_compound(age, ret_age, current_savings, monthly_addition, comp_rate)\n",
    "mc"
   ]
  }
 ],
 "metadata": {
  "kernelspec": {
   "display_name": "Python 3 (ipykernel)",
   "language": "python",
   "name": "python3"
  },
  "language_info": {
   "codemirror_mode": {
    "name": "ipython",
    "version": 3
   },
   "file_extension": ".py",
   "mimetype": "text/x-python",
   "name": "python",
   "nbconvert_exporter": "python",
   "pygments_lexer": "ipython3",
   "version": "3.12.1"
  },
  "toc": {
   "base_numbering": 1,
   "nav_menu": {},
   "number_sections": true,
   "sideBar": true,
   "skip_h1_title": false,
   "title_cell": "Table of Contents",
   "title_sidebar": "Contents",
   "toc_cell": false,
   "toc_position": {},
   "toc_section_display": true,
   "toc_window_display": false
  },
  "varInspector": {
   "cols": {
    "lenName": 16,
    "lenType": 16,
    "lenVar": 40
   },
   "kernels_config": {
    "python": {
     "delete_cmd_postfix": "",
     "delete_cmd_prefix": "del ",
     "library": "var_list.py",
     "varRefreshCmd": "print(var_dic_list())"
    },
    "r": {
     "delete_cmd_postfix": ") ",
     "delete_cmd_prefix": "rm(",
     "library": "var_list.r",
     "varRefreshCmd": "cat(var_dic_list()) "
    }
   },
   "types_to_exclude": [
    "module",
    "function",
    "builtin_function_or_method",
    "instance",
    "_Feature"
   ],
   "window_display": false
  }
 },
 "nbformat": 4,
 "nbformat_minor": 5
}
